{
 "cells": [
  {
   "cell_type": "code",
   "execution_count": 1,
   "metadata": {},
   "outputs": [],
   "source": [
    "import pandas as pd\n",
    "import numpy as np\n",
    "import xgboost as xgb\n",
    "np.random.seed(2018)"
   ]
  },
  {
   "cell_type": "code",
   "execution_count": 2,
   "metadata": {},
   "outputs": [
    {
     "name": "stderr",
     "output_type": "stream",
     "text": [
      "c:\\Users\\astro\\anaconda3\\envs\\kaggle_conda\\lib\\site-packages\\IPython\\core\\interactiveshell.py:3165: DtypeWarning: Columns (5,8,11,15) have mixed types.Specify dtype option on import or set low_memory=False.\n",
      "  has_raised = await self.run_ast_nodes(code_ast.body, cell_name,\n",
      "c:\\Users\\astro\\anaconda3\\envs\\kaggle_conda\\lib\\site-packages\\IPython\\core\\interactiveshell.py:3165: DtypeWarning: Columns (15) have mixed types.Specify dtype option on import or set low_memory=False.\n",
      "  has_raised = await self.run_ast_nodes(code_ast.body, cell_name,\n"
     ]
    }
   ],
   "source": [
    "#データの呼び出し\n",
    "trn = pd.read_csv(\"santander-product-recommendation/train_ver2.csv\")\n",
    "tst = pd.read_csv(\"santander-product-recommendation/test_ver2.csv\")"
   ]
  },
  {
   "cell_type": "code",
   "execution_count": 3,
   "metadata": {},
   "outputs": [],
   "source": [
    "prods = trn.columns[24:].tolist()\n",
    "\n",
    "#商品変数のnanを0に代替(fillna)\n",
    "trn[prods] = trn[prods].fillna(0.0).astype(np.int8)"
   ]
  },
  {
   "cell_type": "code",
   "execution_count": 4,
   "metadata": {},
   "outputs": [
    {
     "data": {
      "text/plain": [
       "'\\n== 0 でsumの結果が0である行(顧客)はTrueとなるSeriesになる．\\ndf[~bool]でFalseのみ残すことができる(df[bool]の逆)\\n'"
      ]
     },
     "execution_count": 4,
     "metadata": {},
     "output_type": "execute_result"
    }
   ],
   "source": [
    "#24個の商品を一個も持っていない顧客のデータを除去\n",
    "no_product = trn[prods].sum(axis=1) == 0\n",
    "\"\"\"\n",
    "== 0 でsumの結果が0である行(顧客)はTrueとなるSeriesになる．\n",
    "df[~bool]でFalseのみ残すことができる(df[bool]の逆)\n",
    "\"\"\""
   ]
  },
  {
   "cell_type": "code",
   "execution_count": 5,
   "metadata": {},
   "outputs": [],
   "source": [
    "trn = trn[~no_product]"
   ]
  },
  {
   "cell_type": "code",
   "execution_count": 6,
   "metadata": {},
   "outputs": [
    {
     "data": {
      "text/plain": [
       "(11091070, 48)"
      ]
     },
     "execution_count": 6,
     "metadata": {},
     "output_type": "execute_result"
    }
   ],
   "source": [
    "trn.shape"
   ]
  },
  {
   "cell_type": "code",
   "execution_count": 7,
   "metadata": {},
   "outputs": [],
   "source": [
    "#訓練データとテストデータを統合．テストデータにない商品変数は0\n",
    "for col in trn.columns[24:]:\n",
    "    tst[col] = 0\n",
    "df = pd.concat([trn,tst],axis=0)\n"
   ]
  },
  {
   "cell_type": "code",
   "execution_count": 8,
   "metadata": {},
   "outputs": [],
   "source": [
    "feautures = []\n",
    "\n",
    "categorical_cols = [\"ind_empleado\",\"pais_residencia\",\"sexo\",\"tiprel_1mes\",\"indresi\",\"indext\",\"conyuemp\",\"canal_entrada\",\"indfall\",\"tipodom\",\"nomprov\",\"segmento\"]"
   ]
  },
  {
   "cell_type": "code",
   "execution_count": 9,
   "metadata": {},
   "outputs": [],
   "source": [
    "for col in categorical_cols:\n",
    "    df[col],uni = df[col].factorize(na_sentinel=-99)"
   ]
  },
  {
   "cell_type": "code",
   "execution_count": 10,
   "metadata": {},
   "outputs": [],
   "source": [
    "feautures += categorical_cols"
   ]
  },
  {
   "cell_type": "code",
   "execution_count": 11,
   "metadata": {},
   "outputs": [],
   "source": [
    "df[\"age\"].replace(\" NA\",-99,inplace=True)\n",
    "df[\"age\"] = df[\"age\"].astype(np.int8)"
   ]
  },
  {
   "cell_type": "code",
   "execution_count": 12,
   "metadata": {},
   "outputs": [],
   "source": [
    "df[\"antiguedad\"].replace(\"     NA\",-99,inplace=True)\n",
    "df[\"antiguedad\"] = df[\"antiguedad\"].astype(np.int8)"
   ]
  },
  {
   "cell_type": "code",
   "execution_count": 13,
   "metadata": {},
   "outputs": [],
   "source": [
    "df[\"renta\"].replace(\"         NA\",-99,inplace=True)\n",
    "df[\"renta\"].fillna(-99,inplace=True)\n",
    "df[\"renta\"] = df[\"renta\"].astype(float).astype(np.int8)"
   ]
  },
  {
   "cell_type": "code",
   "execution_count": 14,
   "metadata": {},
   "outputs": [],
   "source": [
    "df[\"indrel_1mes\"].replace(\"P\",-99,inplace=True)\n",
    "df[\"indrel_1mes\"].fillna(-99,inplace=True)\n",
    "df[\"indrel_1mes\"] = df[\"indrel_1mes\"].astype(float).astype(np.int8)"
   ]
  },
  {
   "cell_type": "code",
   "execution_count": 15,
   "metadata": {},
   "outputs": [],
   "source": [
    "#学習に使用する数値型変数をfeaturesに追加\n",
    "feautures += [\"age\",\"antiguedad\",\"renta\",\"ind_nuevo\",\"indrel\",\"indrel_1mes\",\"ind_actividad_cliente\"]"
   ]
  },
  {
   "cell_type": "code",
   "execution_count": 16,
   "metadata": {},
   "outputs": [],
   "source": [
    "#2つの日付変数から年度と月の情報を抽出\n",
    "#(2022-01-01 ->split(\"-\")-> [2020,01,01])\n",
    "df[\"fecha_alta_month\"] = df[\"fecha_alta\"].map(lambda x: 0.0 if x.__class__ is float else float(x.split(\"-\")[1])).astype(np.int8)\n",
    "df[\"fecha_alta_year\"]  = df[\"fecha_alta\"].map(lambda x: 0.0 if x.__class__ is float else float(x.split(\"-\")[0])).astype(np.int8)\n",
    "feautures += [\"fecha_alta_month\",\"fecha_alta_year\"]"
   ]
  },
  {
   "cell_type": "code",
   "execution_count": 17,
   "metadata": {},
   "outputs": [],
   "source": [
    "df[\"ult_fec_cli_1t_month\"] = df[\"ult_fec_cli_1t\"].map(lambda x: 0.0 if x.__class__ is float else float(x.split(\"-\")[1])).astype(np.int8)\n",
    "df[\"ult_fec_cli_1t_year\"] = df[\"ult_fec_cli_1t\"].map(lambda x: 0.0 if x.__class__ is float else float(x.split(\"-\")[0])).astype(np.int8)\n",
    "feautures += [\"ult_fec_cli_1t_month\",\"ult_fec_cli_1t_year\"]"
   ]
  },
  {
   "cell_type": "code",
   "execution_count": 18,
   "metadata": {},
   "outputs": [],
   "source": [
    "df.fillna(-99,inplace=True)"
   ]
  },
  {
   "cell_type": "code",
   "execution_count": 19,
   "metadata": {},
   "outputs": [],
   "source": [
    "#日付を数字に変換する関数\n",
    "def date_to_int(str_date:str)->int:\n",
    "    Y,M,D = map(int,str_date.strip().split(\"-\"))\n",
    "    int_date = (Y - 2015) * 12 + M\n",
    "    return int_date"
   ]
  },
  {
   "cell_type": "code",
   "execution_count": 20,
   "metadata": {},
   "outputs": [],
   "source": [
    "#日付を数字に変換し，\"int_date\"として保存\n",
    "df[\"int_date\"] = df[\"fecha_dato\"].map(date_to_int).astype(np.int8)"
   ]
  },
  {
   "cell_type": "code",
   "execution_count": 21,
   "metadata": {},
   "outputs": [],
   "source": [
    "df_lag = df.copy()\n",
    "df_lag.columns = [col + \"_prev\" if col not in [\"ncodpers\",\"int_date\"] else col for col in df.columns]\n",
    "df_lag[\"int_date\"] += 1"
   ]
  },
  {
   "cell_type": "code",
   "execution_count": 22,
   "metadata": {},
   "outputs": [],
   "source": [
    "# df_lag.to_csv(\"df_lag.csv\")"
   ]
  },
  {
   "cell_type": "code",
   "execution_count": null,
   "metadata": {},
   "outputs": [],
   "source": [
    "df_trn = df.merge(df_lag,on=[\"ncodpers\",\"int_date\"],how=\"left\")\n",
    "del df,df_lag"
   ]
  },
  {
   "cell_type": "code",
   "execution_count": null,
   "metadata": {},
   "outputs": [],
   "source": [
    "for prod in prods:\n",
    "    prev = prod + \"_prev\"\n",
    "    df_trn[prev].fillna(0,inplace=True)\n",
    "df_trn.fillna(-99,inplace=True)"
   ]
  },
  {
   "cell_type": "code",
   "execution_count": null,
   "metadata": {},
   "outputs": [],
   "source": [
    "feautures += [feature + \"_prev\" for feature in feautures]\n",
    "feautures += [prod + \"prev\" for prod in prods]"
   ]
  }
 ],
 "metadata": {
  "interpreter": {
   "hash": "7c5fd24fceab090f2c5c71fd4495c8eac52172cb8980890620cc96ba7288a84c"
  },
  "kernelspec": {
   "display_name": "Python 3.8.8 ('kaggle_conda')",
   "language": "python",
   "name": "python3"
  },
  "language_info": {
   "codemirror_mode": {
    "name": "ipython",
    "version": 3
   },
   "file_extension": ".py",
   "mimetype": "text/x-python",
   "name": "python",
   "nbconvert_exporter": "python",
   "pygments_lexer": "ipython3",
   "version": "3.8.8"
  },
  "orig_nbformat": 4
 },
 "nbformat": 4,
 "nbformat_minor": 2
}
